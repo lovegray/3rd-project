{
 "cells": [
  {
   "cell_type": "code",
   "execution_count": 1,
   "metadata": {},
   "outputs": [],
   "source": [
    "#!pip install numpy"
   ]
  },
  {
   "cell_type": "code",
   "execution_count": 2,
   "metadata": {},
   "outputs": [],
   "source": [
    "#!pip install flask"
   ]
  },
  {
   "cell_type": "code",
   "execution_count": 3,
   "metadata": {},
   "outputs": [],
   "source": [
    "#!pip install mtcnn-0.1.0-py3-none-any.whl"
   ]
  },
  {
   "cell_type": "code",
   "execution_count": 4,
   "metadata": {},
   "outputs": [],
   "source": [
    "#!pip install flask-mysqldb"
   ]
  },
  {
   "cell_type": "code",
   "execution_count": 5,
   "metadata": {},
   "outputs": [],
   "source": [
    "#!pip install tqdm"
   ]
  },
  {
   "cell_type": "code",
   "execution_count": 2,
   "metadata": {
    "scrolled": true
   },
   "outputs": [
    {
     "name": "stderr",
     "output_type": "stream",
     "text": [
      "Using TensorFlow backend.\n"
     ]
    }
   ],
   "source": [
    "import pandas as pd\n",
    "import pickle\n",
    "from flask import Flask, render_template, request, redirect, url_for, session, flash, jsonify\n",
    "from werkzeug.utils import secure_filename\n",
    "#from werkzeug.datastructures import FileStorage\n",
    "from tensorflow.keras.models import load_model\n",
    "from mtcnn import MTCNN\n",
    "from flask_mysqldb import MySQL"
   ]
  },
  {
   "cell_type": "code",
   "execution_count": 3,
   "metadata": {},
   "outputs": [],
   "source": [
    "#!pip install flask-mysqldb"
   ]
  },
  {
   "cell_type": "code",
   "execution_count": 4,
   "metadata": {},
   "outputs": [],
   "source": [
    "from tqdm import tqdm_notebook\n",
    "import cv2\n",
    "import os\n",
    "import numpy as np\n",
    "from collections import Counter"
   ]
  },
  {
   "cell_type": "code",
   "execution_count": 14,
   "metadata": {},
   "outputs": [
    {
     "name": "stdout",
     "output_type": "stream",
     "text": [
      " * Serving Flask app \"__main__\" (lazy loading)\n",
      " * Environment: production\n",
      "   WARNING: This is a development server. Do not use it in a production deployment.\n",
      "   Use a production WSGI server instead.\n",
      " * Debug mode: off\n"
     ]
    },
    {
     "name": "stderr",
     "output_type": "stream",
     "text": [
      " * Running on http://localhost:9003/ (Press CTRL+C to quit)\n",
      "127.0.0.1 - - [05/Mar/2020 14:58:35] \"\u001b[37mGET / HTTP/1.1\u001b[0m\" 200 -\n"
     ]
    },
    {
     "name": "stdout",
     "output_type": "stream",
     "text": [
      "['정치인', '힐러리', '연예인', '오바마', '대통령', '진쌤', '현빈', '여자배우', '선생님', '설현']\n"
     ]
    },
    {
     "name": "stderr",
     "output_type": "stream",
     "text": [
      "127.0.0.1 - - [05/Mar/2020 14:58:36] \"\u001b[37mGET / HTTP/1.1\u001b[0m\" 200 -\n"
     ]
    },
    {
     "name": "stdout",
     "output_type": "stream",
     "text": [
      "['정치인', '힐러리', '연예인', '오바마', '대통령', '진쌤', '현빈', '여자배우', '선생님', '설현']\n"
     ]
    },
    {
     "name": "stderr",
     "output_type": "stream",
     "text": [
      "127.0.0.1 - - [05/Mar/2020 14:58:38] \"\u001b[37mGET /nav HTTP/1.1\u001b[0m\" 200 -\n",
      "127.0.0.1 - - [05/Mar/2020 14:58:38] \"\u001b[37mGET /nav HTTP/1.1\u001b[0m\" 200 -\n",
      "127.0.0.1 - - [05/Mar/2020 14:58:41] \"\u001b[37mGET /mypage HTTP/1.1\u001b[0m\" 200 -\n"
     ]
    },
    {
     "name": "stdout",
     "output_type": "stream",
     "text": [
      "mypage id: aa\n"
     ]
    },
    {
     "name": "stderr",
     "output_type": "stream",
     "text": [
      "127.0.0.1 - - [05/Mar/2020 14:58:41] \"\u001b[37mGET /nav HTTP/1.1\u001b[0m\" 200 -\n",
      "127.0.0.1 - - [05/Mar/2020 14:58:41] \"\u001b[37mGET /static/testMp4/hil_fake.mp4 HTTP/1.1\u001b[0m\" 206 -\n",
      "127.0.0.1 - - [05/Mar/2020 14:58:41] \"\u001b[37mGET /static/testMp4/obama2.mp4 HTTP/1.1\u001b[0m\" 206 -\n",
      "127.0.0.1 - - [05/Mar/2020 14:58:42] \"\u001b[37mGET /static/testMp4/hil_fake.mp4 HTTP/1.1\u001b[0m\" 206 -\n",
      "127.0.0.1 - - [05/Mar/2020 14:58:42] \"\u001b[37mGET /static/testMp4/obama2.mp4 HTTP/1.1\u001b[0m\" 206 -\n",
      "127.0.0.1 - - [05/Mar/2020 14:58:42] \"\u001b[37mGET /static/testMp4/hil_fake.mp4 HTTP/1.1\u001b[0m\" 206 -\n",
      "127.0.0.1 - - [05/Mar/2020 14:58:42] \"\u001b[37mGET /static/testMp4/obama2.mp4 HTTP/1.1\u001b[0m\" 206 -\n",
      "127.0.0.1 - - [05/Mar/2020 14:58:42] \"\u001b[37mGET /static/testMp4/hil_fake.mp4 HTTP/1.1\u001b[0m\" 206 -\n",
      "127.0.0.1 - - [05/Mar/2020 14:58:54] \"\u001b[37mGET /list HTTP/1.1\u001b[0m\" 200 -\n",
      "127.0.0.1 - - [05/Mar/2020 14:58:54] \"\u001b[37mGET /nav HTTP/1.1\u001b[0m\" 200 -\n",
      "127.0.0.1 - - [05/Mar/2020 14:58:57] \"\u001b[37mGET /mypage HTTP/1.1\u001b[0m\" 200 -\n"
     ]
    },
    {
     "name": "stdout",
     "output_type": "stream",
     "text": [
      "mypage id: aa\n"
     ]
    },
    {
     "name": "stderr",
     "output_type": "stream",
     "text": [
      "127.0.0.1 - - [05/Mar/2020 14:58:58] \"\u001b[37mGET /nav HTTP/1.1\u001b[0m\" 200 -\n",
      "127.0.0.1 - - [05/Mar/2020 14:59:12] \"\u001b[37mGET /list HTTP/1.1\u001b[0m\" 200 -\n",
      "127.0.0.1 - - [05/Mar/2020 14:59:12] \"\u001b[37mGET /nav HTTP/1.1\u001b[0m\" 200 -\n",
      "127.0.0.1 - - [05/Mar/2020 14:59:14] \"\u001b[37mGET /intro HTTP/1.1\u001b[0m\" 200 -\n",
      "127.0.0.1 - - [05/Mar/2020 14:59:15] \"\u001b[37mGET /nav HTTP/1.1\u001b[0m\" 200 -\n",
      "127.0.0.1 - - [05/Mar/2020 14:59:16] \"\u001b[37mGET / HTTP/1.1\u001b[0m\" 200 -\n"
     ]
    },
    {
     "name": "stdout",
     "output_type": "stream",
     "text": [
      "['정치인', '힐러리', '연예인', '오바마', '대통령', '진쌤', '현빈', '여자배우', '선생님', '설현']\n"
     ]
    },
    {
     "name": "stderr",
     "output_type": "stream",
     "text": [
      "127.0.0.1 - - [05/Mar/2020 14:59:16] \"\u001b[37mGET /nav HTTP/1.1\u001b[0m\" 200 -\n",
      "127.0.0.1 - - [05/Mar/2020 15:00:12] \"\u001b[36mGET /static/css/images/mobile_main.png HTTP/1.1\u001b[0m\" 304 -\n",
      "127.0.0.1 - - [05/Mar/2020 15:00:12] \"\u001b[36mGET /static/css/images/navPanel.svg HTTP/1.1\u001b[0m\" 304 -\n",
      "127.0.0.1 - - [05/Mar/2020 15:01:24] \"\u001b[37mGET /upload HTTP/1.1\u001b[0m\" 200 -\n",
      "127.0.0.1 - - [05/Mar/2020 15:01:25] \"\u001b[37mGET /nav HTTP/1.1\u001b[0m\" 200 -\n",
      "127.0.0.1 - - [05/Mar/2020 15:01:29] \"\u001b[37mGET / HTTP/1.1\u001b[0m\" 200 -\n"
     ]
    },
    {
     "name": "stdout",
     "output_type": "stream",
     "text": [
      "['정치인', '힐러리', '연예인', '오바마', '대통령', '진쌤', '현빈', '여자배우', '선생님', '설현']\n"
     ]
    },
    {
     "name": "stderr",
     "output_type": "stream",
     "text": [
      "127.0.0.1 - - [05/Mar/2020 15:01:30] \"\u001b[37mGET /nav HTTP/1.1\u001b[0m\" 200 -\n",
      "127.0.0.1 - - [05/Mar/2020 15:01:33] \"\u001b[37mGET /mypage HTTP/1.1\u001b[0m\" 200 -\n"
     ]
    },
    {
     "name": "stdout",
     "output_type": "stream",
     "text": [
      "mypage id: aa\n"
     ]
    },
    {
     "name": "stderr",
     "output_type": "stream",
     "text": [
      "127.0.0.1 - - [05/Mar/2020 15:01:33] \"\u001b[33mGET /static/css/images/video.JPG HTTP/1.1\u001b[0m\" 404 -\n",
      "127.0.0.1 - - [05/Mar/2020 15:01:34] \"\u001b[37mGET /static/testMp4/hil_fake.mp4 HTTP/1.1\u001b[0m\" 206 -\n",
      "127.0.0.1 - - [05/Mar/2020 15:01:34] \"\u001b[37mGET /nav HTTP/1.1\u001b[0m\" 200 -\n",
      "127.0.0.1 - - [05/Mar/2020 15:01:34] \"\u001b[37mGET /static/testMp4/obama2.mp4 HTTP/1.1\u001b[0m\" 206 -\n",
      "127.0.0.1 - - [05/Mar/2020 15:01:34] \"\u001b[37mGET /static/testMp4/hil_fake.mp4 HTTP/1.1\u001b[0m\" 206 -\n",
      "127.0.0.1 - - [05/Mar/2020 15:01:34] \"\u001b[37mGET /static/testMp4/hil_fake.mp4 HTTP/1.1\u001b[0m\" 206 -\n",
      "127.0.0.1 - - [05/Mar/2020 15:01:35] \"\u001b[37mGET /static/testMp4/obama2.mp4 HTTP/1.1\u001b[0m\" 206 -\n",
      "127.0.0.1 - - [05/Mar/2020 15:01:35] \"\u001b[37mGET /static/testMp4/hil_fake.mp4 HTTP/1.1\u001b[0m\" 206 -\n",
      "127.0.0.1 - - [05/Mar/2020 15:01:35] \"\u001b[37mGET /static/testMp4/obama2.mp4 HTTP/1.1\u001b[0m\" 206 -\n",
      "127.0.0.1 - - [05/Mar/2020 15:01:45] \"\u001b[37mGET /list HTTP/1.1\u001b[0m\" 200 -\n",
      "127.0.0.1 - - [05/Mar/2020 15:01:46] \"\u001b[37mGET /nav HTTP/1.1\u001b[0m\" 200 -\n",
      "127.0.0.1 - - [05/Mar/2020 15:01:52] \"\u001b[37mGET / HTTP/1.1\u001b[0m\" 200 -\n"
     ]
    },
    {
     "name": "stdout",
     "output_type": "stream",
     "text": [
      "['정치인', '힐러리', '연예인', '오바마', '대통령', '진쌤', '현빈', '여자배우', '선생님', '설현']\n"
     ]
    },
    {
     "name": "stderr",
     "output_type": "stream",
     "text": [
      "127.0.0.1 - - [05/Mar/2020 15:01:53] \"\u001b[37mGET /nav HTTP/1.1\u001b[0m\" 200 -\n"
     ]
    }
   ],
   "source": [
    "app = Flask(__name__)\n",
    "#model = pickle.load(open('model.pkl','rb'))\n",
    "app.secret_key = 'xJ1\\xd1\\xc4\\xcf\\xed2C\\xfc\\x95\\x92'\n",
    "\n",
    "# db connect\n",
    "app.config['MYSQL_HOST'] = 'localhost'\n",
    "app.config['MYSQL_USER'] = 'root'\n",
    "app.config['MYSQL_PASSWORD'] = '1234'\n",
    "app.config['MYSQL_DB'] = 'dbdeep'\n",
    "\n",
    "mysql = MySQL(app)\n",
    "\n",
    "@app.route(\"/\")\n",
    "def home():\n",
    "    # db 연결\n",
    "    cur = mysql.connection.cursor()\n",
    "    cur.execute(\"select * from video_test\")\n",
    "    rows = cur.fetchall()\n",
    "    cur.close()\n",
    "    \n",
    "    tag_list = []\n",
    "    for obj in rows :\n",
    "        tag = obj[2]\n",
    "        tag_list.append(tag)\n",
    "        \n",
    "    tag_result = Counter(tag_list)\n",
    "    result_list = tag_result.most_common(10)\n",
    "    \n",
    "    tag_lists = []\n",
    "    for obj in result_list :\n",
    "        tag = obj[0]        # tag_list\n",
    "        tag_lists.append(tag)\n",
    "        \n",
    "    print(tag_lists)\n",
    "    return render_template('main.html', tag_lists = tag_lists)\n",
    "\n",
    "@app.route(\"/nav\")\n",
    "def nav(): \n",
    "    return render_template('nav.html')\n",
    "\n",
    "@app.route('/login', methods=['GET', 'POST'])\n",
    "def login():\n",
    "    if request.method == \"POST\":\n",
    "\n",
    "        id = request.form['id']\n",
    "        password = request.form['password']\n",
    "\n",
    "        cur = mysql.connection.cursor()\n",
    "        cur.execute(\"SELECT id, name, password, age, sex FROM user WHERE id = %s AND password = %s\", (id, password))\n",
    "        \n",
    "        account = cur.fetchone()\n",
    "        \n",
    "        if account:\n",
    "            session['login'] = True\n",
    "            session['id'] = account[0]\n",
    "            session['name'] = account[1]\n",
    "            session['password'] = account[2]\n",
    "            session['age'] = account[3]\n",
    "            session['sex'] = account[4]\n",
    "\n",
    "            return jsonify({\"status\": \"success\"}) # json형태로 상태를 리턴 해줌 \n",
    "        else:\n",
    "            return jsonify({\"status\": \"fail\"})\n",
    "    return render_template('login.html')\n",
    "\n",
    "\n",
    "@app.route('/logout')\n",
    "def logout():\n",
    "    session.pop('login', None)\n",
    "    session.pop('id', None)\n",
    "    session.pop('name', None)\n",
    "    session.pop('password', None)\n",
    "    session.pop('age', None)\n",
    "    session.pop('sex', None)\n",
    "    \n",
    "    return render_template('main.html')\n",
    "\n",
    "@app.route('/join', methods=['GET', 'POST'])\n",
    "def join():\n",
    "    if request.method == \"POST\":\n",
    "\n",
    "        id = request.form['id']\n",
    "        name = request.form['name']\n",
    "        password = request.form['password']\n",
    "        password_check = request.form['password_check']\n",
    "        age = request.form['age']\n",
    "        sex = request.form['sex']\n",
    "\n",
    "        if(password == password_check):\n",
    "            cur = mysql.connection.cursor()\n",
    "            cur.execute(\"INSERT INTO user(id, name, password, age, sex) VALUES (%s, %s, %s, %s, %s)\", (id, name, password, age, sex))\n",
    "            mysql.connection.commit()\n",
    "            cur.close()\n",
    "            return jsonify({\"status\": \"success\"})\n",
    "        else:\n",
    "            return jsonify({\"status\": \"fail\"})\n",
    "\n",
    "    return render_template('join.html')\n",
    "\n",
    "\n",
    "@app.route('/mypage', methods=['GET', 'POST'])\n",
    "def mypage():\n",
    "    id = session['id']\n",
    "    print(\"mypage id:\",id)\n",
    "    # db 연결\n",
    "    cur = mysql.connection.cursor()\n",
    "    cur.execute(\"select * from video_test where id = '%s'\" % id)\n",
    "    video = cur.fetchall()\n",
    "    #print(video)\n",
    "    cur.close()\n",
    "    \n",
    "    #이용내역\n",
    "    video_list = []\n",
    "    result_list = []\n",
    "    for obj in video :\n",
    "        video_name = obj[1] # 파일이름\n",
    "        result = obj[3]     #결과\n",
    "        \n",
    "        video_list.append(video_name)\n",
    "        result_list.append(result)\n",
    "        \n",
    "    #문의 내역\n",
    "        cur = mysql.connection.cursor()\n",
    "        cur.execute(\"select * from board where id = '%s'\" % id)\n",
    "\n",
    "        list = cur.fetchall()\n",
    "    \n",
    "    # edit_user    \n",
    "    if request.method == \"POST\":\n",
    "        name = request.form['name']\n",
    "        password = request.form['password']\n",
    "        password_check = request.form['password_check']\n",
    "        \n",
    "\n",
    "        if password == password_check:\n",
    "            if name:\n",
    "                name = name\n",
    "                session['name'] = name\n",
    "            else:\n",
    "                name = session['name']\n",
    "\n",
    "            if password:\n",
    "                password = password\n",
    "                session['password'] = password\n",
    "            else:\n",
    "                password = session['password']\n",
    "\n",
    "            \n",
    "            cur = mysql.connection.cursor()\n",
    "            cur.execute(\"UPDATE user SET name=%s, password=%s WHERE id = %s\", (name, password, id))\n",
    "            mysql.connection.commit()\n",
    "            cur.close()\n",
    "            return jsonify({\"status\": \"success\"})\n",
    "        \n",
    "        else:\n",
    "            return jsonify({\"status\": \"fail\"})\n",
    "\n",
    "    return render_template('mypage.html', video_list = video_list, result_list = result_list, list = list)\n",
    "\n",
    "@app.route(\"/manual\")\n",
    "def manual():                           \n",
    "    return render_template('manual.html')\n",
    "\n",
    "\n",
    "@app.route(\"/upload\")\n",
    "def upload():                           \n",
    "    return render_template('upload.html')\n",
    "\n",
    "\n",
    "@app.route(\"/fileUpload\", methods = ['GET', 'POST'])\n",
    "def upload_file():         \n",
    "    if request.method == 'POST':\n",
    "        \n",
    "        f = request.files\n",
    "        print(\"1\",f)\n",
    "        print(\"2\",f['files'])\n",
    "        print(\"3\",f['files'].filename)\n",
    "        f['files'].save(\"static/testMp4/\" + secure_filename(f['files'].filename))\n",
    "        \n",
    "        # 2. 모델 불러오기\n",
    "        model = load_model('keras_model.h5')\n",
    "        #print(model)\n",
    "\n",
    "        # 3. 모델 사용하기\n",
    "        #yhat = model.predict_classes(xhat)\n",
    "        def prediction_pipline(X, two_times=False):\n",
    "            preds=[]\n",
    "            #for model in tqdm_notebook(models):\n",
    "            pred=model.predict(np.array(X))\n",
    "            preds.append(pred)\n",
    "            preds=sum(preds)/len(preds)\n",
    "            if two_times:\n",
    "                return larger_range(preds,2)\n",
    "            else:\n",
    "                return preds\n",
    "        MAX_SKIP=10\n",
    "        NUM_FRAME=150\n",
    "        test_dir = 'static/testMp4/'\n",
    "        filenames = f['files'].filename\n",
    "        #prediction_filenames = filenames\n",
    "        test_video_files = [test_dir + filenames]\n",
    "        print('확인,,,',test_video_files)\n",
    "        detector = MTCNN()\n",
    "        def detect_face(img):\n",
    "            img=cv2.cvtColor(img,cv2.COLOR_BGR2RGB)\n",
    "            final = []\n",
    "            detected_faces_raw = detector.detect_faces(img)\n",
    "            if detected_faces_raw==[]:\n",
    "                #print('no faces found')\n",
    "                return []\n",
    "            confidences=[]\n",
    "            for n in detected_faces_raw:\n",
    "                x,y,w,h=n['box']\n",
    "                final.append([x,y,w,h])\n",
    "                confidences.append(n['confidence'])\n",
    "            if max(confidences)<0.9:\n",
    "                return []\n",
    "            max_conf_coord=final[confidences.index(max(confidences))]\n",
    "            #return final\n",
    "            return max_conf_coord\n",
    "        def crop(img,x,y,w,h):\n",
    "            x-=40\n",
    "            y-=40\n",
    "            w+=80\n",
    "            h+=80\n",
    "            if x<0:\n",
    "                x=0\n",
    "            if y<=0:\n",
    "                y=0\n",
    "            return cv2.cvtColor(cv2.resize(img[y:y+h,x:x+w],(150,150)),cv2.COLOR_BGR2RGB)\n",
    "        def detect_video(video):\n",
    "            v_cap = cv2.VideoCapture(video)\n",
    "            v_cap.set(1, NUM_FRAME)\n",
    "            success, vframe = v_cap.read()\n",
    "            vframe = cv2.cvtColor(vframe, cv2.COLOR_BGR2RGB)\n",
    "            bounding_box=detect_face(vframe)\n",
    "            if bounding_box==[]:\n",
    "                count=0\n",
    "                current=NUM_FRAME\n",
    "                while bounding_box==[] and count<MAX_SKIP:\n",
    "                    current+=1\n",
    "                    v_cap.set(1,current)\n",
    "                    success, vframe = v_cap.read()\n",
    "                    vframe = cv2.cvtColor(vframe, cv2.COLOR_BGR2RGB)\n",
    "                    bounding_box=detect_face(vframe)\n",
    "                    count+=1\n",
    "                if bounding_box==[]:\n",
    "                    print('no faces found')\n",
    "                    prediction_filenames.remove(video.replace('static/testMp4/',''))\n",
    "                    return None\n",
    "            x,y,w,h=bounding_box\n",
    "            v_cap.release()\n",
    "            return crop(vframe,x,y,w,h)\n",
    "        test_X = []\n",
    "        for video in tqdm_notebook(test_video_files):\n",
    "            x=detect_video(video)\n",
    "            if x is None:\n",
    "                continue\n",
    "            test_X.append(x)\n",
    "        preds=prediction_pipline(np.array(test_X, dtype = np.float32),two_times=False).clip(0.35,0.65) \n",
    "        print(\"preds:\",preds)\n",
    "        print(\"preds2:\",preds[0])\n",
    "        print(\"preds3:\",preds[0][0])\n",
    "        preds = preds[0][0]\n",
    "        \n",
    "        # 진짜/가짜 t_f\n",
    "        if(preds >=0.55 and preds <=1):\n",
    "            t_f = '가짜영상'\n",
    "        else :\n",
    "            t_f = '진짜영상'\n",
    "        \n",
    "        # 진짜/가짜 percent\n",
    "        if(preds<=0.09):\n",
    "            percent = \"99%\"\n",
    "        elif(preds<=0.19):\n",
    "            percent = \"90%\"\n",
    "        elif(preds <= 0.29):\n",
    "            percent = \"80%\"\n",
    "        elif(preds <= 0.39):\n",
    "            percent = \"70%\"\n",
    "        elif(preds <= 0.49):\n",
    "            percent = \"60%\"\n",
    "        elif(preds <= 0.59):\n",
    "            percent = \"50%\"\n",
    "        elif(preds <= 0.69):\n",
    "            percent = \"60%\"\n",
    "        elif(preds <= 0.79):\n",
    "            percent = \"70%\"\n",
    "        elif(preds <= 0.89):\n",
    "            percent = \"80%\"\n",
    "        elif(preds <= 0.95):\n",
    "            percent = \"90%\"\n",
    "        elif(preds <= 1):\n",
    "            percent = \"99%\"\n",
    "\n",
    "        print(percent)\n",
    "        \n",
    "        #db 연결\n",
    "        # tag, source\n",
    "        if session['login']:\n",
    "            id = session['id']\n",
    "        tag = request.form['tag']\n",
    "        source = request.form['source']\n",
    "        #print(tag)\n",
    "        #print(source)\n",
    "        \n",
    "        # db 연결\n",
    "        cur = mysql.connection.cursor()\n",
    "        cur.execute(\"INSERT INTO video_test VALUES (%s, %s, %s, %s, now(), %s)\", (id, filenames, tag, t_f, source))\n",
    "        mysql.connection.commit()\n",
    "        cur.close()\n",
    "\n",
    "\n",
    "    return render_template('result.html', result = filenames, predict = percent, t_f = t_f)\n",
    "\n",
    "@app.route(\"/result\")\n",
    "def result(result):\n",
    "    print(\"result\",result)\n",
    "    return render_template('result.html', result = result, predict = preds, f = f)\n",
    "\n",
    "@app.route(\"/stat\")\n",
    "def stat():\n",
    "    # db 연결\n",
    "    cur = mysql.connection.cursor()\n",
    "    cur.execute(\"select * from video_test\")\n",
    "    rows = cur.fetchall()\n",
    "    \n",
    "   # rows data_list에 넣기\n",
    "    data_list = []\n",
    "    source_list = []\n",
    "    tag_list = []\n",
    "\n",
    "    for obj in rows :\n",
    "        data = obj[3]         # 가짜/진짜\n",
    "        source = obj[5]       # 출처\n",
    "        tag = obj[2]\n",
    "        \n",
    "        data_list.append(data)\n",
    "        source_list.append(source)\n",
    "        tag_list.append(tag)\n",
    "        \n",
    "     # 원형 차트(가짜/진짜)    \n",
    "    #print(data_list)   #label\n",
    "    #print(len(data_list))  #count\n",
    "    fake = data_list.count('가짜영상')\n",
    "    real = data_list.count('진짜영상')\n",
    "    count = [fake,real]\n",
    "    \n",
    "    # 출처 차트\n",
    "    youtube = source_list.count('유튜브')\n",
    "    naver = source_list.count('네이버')\n",
    "    google = source_list.count('구글')\n",
    "    daum = source_list.count('다음')\n",
    "    etc = source_list.count('기타')\n",
    "    source_count = [youtube, naver, google, daum, etc]\n",
    "    \n",
    "    # 태그 차트\n",
    "    #print(tag_list)\n",
    "    tag_result = Counter(tag_list)\n",
    "    result_list = tag_result.most_common(10)\n",
    "    tag_lists = []\n",
    "    tag_count_lists = []\n",
    "    for obj in result_list :\n",
    "        tag = obj[0]        # tag_list\n",
    "        tag_count = obj[1]  # tag_count\n",
    "        tag_lists.append(tag)\n",
    "        tag_count_lists.append(tag_count)\n",
    "    \n",
    "    # 나이대별 차트\n",
    "    cur.execute(\"select * from user\")\n",
    "    user = cur.fetchall()\n",
    "    age_list = []\n",
    "\n",
    "    for obj in user :\n",
    "        age = obj[3]         # 나이\n",
    "        age_list.append(age)\n",
    "    \n",
    "    age_10 = age_list.count(10)\n",
    "    age_20 = age_list.count(20)\n",
    "    age_30 = age_list.count(30)\n",
    "    age_40 = age_list.count(40)\n",
    "    age_50 = age_list.count(50)\n",
    "    age_60 = age_list.count(60)\n",
    "    age_count = [age_10, age_20, age_30, age_40, age_50, age_60]\n",
    "    \n",
    "    \n",
    "    return render_template('stat.html', result = data_list, count = count, source_count = source_count, tag_lists = tag_lists,\n",
    "                          tag_count_lists = tag_count_lists, age_count = age_count)\n",
    "\n",
    "@app.route(\"/intro\")\n",
    "def intro():\n",
    "    return render_template('intro.html')\n",
    "\n",
    "@app.route('/write', methods=['GET', 'POST'])\n",
    "def write():\n",
    "    if request.method == \"POST\":\n",
    "\n",
    "        title = request.form['title']\n",
    "        id = session['id']\n",
    "        content = request.form['content']\n",
    "        \n",
    "        try:\n",
    "            cur = mysql.connection.cursor()\n",
    "            cur.execute(\"INSERT INTO board(title, id, content) VALUES (%s, %s, %s)\", (title, id, content))\n",
    "            mysql.connection.commit()\n",
    "            cur.close()\n",
    "            return jsonify({\"status\": \"success\"})\n",
    "        except:\n",
    "            return jsonify({\"status\": \"fail\"})\n",
    "\n",
    "    return render_template('board_write.html')\n",
    "\n",
    "\n",
    "@app.route('/list', methods=['GET'])\n",
    "def board_list():\n",
    "        cur = mysql.connection.cursor()\n",
    "        cur.execute(\"SELECT * FROM board\")\n",
    "\n",
    "        list = cur.fetchall()\n",
    "        \n",
    "        if(len(list)/5) < 1:\n",
    "            page = 1;\n",
    "        else:\n",
    "            if len(list)%5 == 0:\n",
    "                page = len(list)/5\n",
    "            else:\n",
    "                page = (len(list)/5)+1\n",
    "\n",
    "        return render_template(\"board.html\",list = list, page = int(page))\n",
    "\n",
    "if __name__ == \"__main__\":\n",
    "    app.run(host=\"localhost\", port=\"9003\", threaded=False)"
   ]
  },
  {
   "cell_type": "code",
   "execution_count": 109,
   "metadata": {},
   "outputs": [],
   "source": [
    "age = [10, 20, 10, 30, 40, 60, 50]"
   ]
  },
  {
   "cell_type": "code",
   "execution_count": 30,
   "metadata": {},
   "outputs": [],
   "source": [
    "a = 0.51\n",
    "if(a>=0.55 and a <=1):\n",
    "    print('가짜')"
   ]
  },
  {
   "cell_type": "code",
   "execution_count": 49,
   "metadata": {},
   "outputs": [],
   "source": [
    "preds = 0.8"
   ]
  },
  {
   "cell_type": "code",
   "execution_count": 50,
   "metadata": {},
   "outputs": [
    {
     "name": "stdout",
     "output_type": "stream",
     "text": [
      "80%\n"
     ]
    }
   ],
   "source": [
    "if(preds<=0.09):\n",
    "    percent = \"99%\"\n",
    "elif(preds<=0.19):\n",
    "    percent = \"90%\"\n",
    "elif(preds <= 0.29):\n",
    "    percent = \"80%\"\n",
    "elif(preds <= 0.39):\n",
    "    percent = \"70%\"\n",
    "elif(preds <= 0.49):\n",
    "    percent = \"60%\"\n",
    "elif(preds <= 0.59):\n",
    "    percent = \"50%\"\n",
    "elif(preds <= 0.69):\n",
    "    percent = \"60%\"\n",
    "elif(preds <= 0.79):\n",
    "    percent = \"70%\"\n",
    "elif(preds <= 0.89):\n",
    "    percent = \"80%\"\n",
    "elif(preds <= 0.95):\n",
    "    percent = \"90%\"\n",
    "elif(preds <= 1):\n",
    "    percent = \"99%\"\n",
    "    \n",
    "print(percent)"
   ]
  },
  {
   "cell_type": "code",
   "execution_count": 73,
   "metadata": {},
   "outputs": [],
   "source": [
    "a = ['가짜','진짜', '가짜']"
   ]
  },
  {
   "cell_type": "code",
   "execution_count": 68,
   "metadata": {},
   "outputs": [],
   "source": [
    "fake = a.count('가짜')\n",
    "real = a.count('진짜')"
   ]
  },
  {
   "cell_type": "code",
   "execution_count": 74,
   "metadata": {},
   "outputs": [
    {
     "data": {
      "text/plain": [
       "2"
      ]
     },
     "execution_count": 74,
     "metadata": {},
     "output_type": "execute_result"
    }
   ],
   "source": [
    "a.count(a[0])"
   ]
  },
  {
   "cell_type": "code",
   "execution_count": 19,
   "metadata": {},
   "outputs": [],
   "source": [
    "a = ['유튜브']"
   ]
  },
  {
   "cell_type": "code",
   "execution_count": 24,
   "metadata": {},
   "outputs": [],
   "source": [
    "list = ['연예인', '연예인', '연예인', '정치인', '설현', '오바마', '오바마', '현빈', '남자배우', '여자배우', '영화배우', '힐러리', '선생님', '대통령', '여자배우', '현빈배우', '현빈']"
   ]
  },
  {
   "cell_type": "code",
   "execution_count": 45,
   "metadata": {},
   "outputs": [],
   "source": [
    "from collections import Counter"
   ]
  },
  {
   "cell_type": "code",
   "execution_count": 66,
   "metadata": {},
   "outputs": [],
   "source": [
    "result = Counter(list)"
   ]
  },
  {
   "cell_type": "code",
   "execution_count": 67,
   "metadata": {},
   "outputs": [
    {
     "name": "stdout",
     "output_type": "stream",
     "text": [
      "Counter({'연예인': 3, '오바마': 2, '현빈': 2, '여자배우': 2, '정치인': 1, '설현': 1, '남자배우': 1, '영화배우': 1, '힐러리': 1, '선생님': 1, '대통령': 1, '현빈배우': 1})\n"
     ]
    }
   ],
   "source": [
    "print(result)"
   ]
  },
  {
   "cell_type": "code",
   "execution_count": 51,
   "metadata": {},
   "outputs": [
    {
     "data": {
      "text/plain": [
       "dict_values([3, 1, 1, 2, 2, 1, 2, 1, 1, 1, 1, 1])"
      ]
     },
     "execution_count": 51,
     "metadata": {},
     "output_type": "execute_result"
    }
   ],
   "source": [
    "Counter(list).values()"
   ]
  },
  {
   "cell_type": "code",
   "execution_count": 69,
   "metadata": {},
   "outputs": [
    {
     "name": "stdout",
     "output_type": "stream",
     "text": [
      "dict_values([3, 1, 1, 2, 2, 1, 2, 1, 1, 1, 1, 1])\n"
     ]
    }
   ],
   "source": [
    "result2 = Counter(list).values()\n",
    "print(result2)"
   ]
  },
  {
   "cell_type": "code",
   "execution_count": 64,
   "metadata": {},
   "outputs": [
    {
     "ename": "TypeError",
     "evalue": "'list' object is not callable",
     "output_type": "error",
     "traceback": [
      "\u001b[1;31m---------------------------------------------------------------------------\u001b[0m",
      "\u001b[1;31mTypeError\u001b[0m                                 Traceback (most recent call last)",
      "\u001b[1;32m<ipython-input-64-92ddf45ca783>\u001b[0m in \u001b[0;36m<module>\u001b[1;34m\u001b[0m\n\u001b[1;32m----> 1\u001b[1;33m \u001b[0mitem\u001b[0m \u001b[1;33m=\u001b[0m \u001b[0mlist\u001b[0m\u001b[1;33m(\u001b[0m\u001b[0mresult\u001b[0m\u001b[1;33m)\u001b[0m\u001b[1;33m\u001b[0m\u001b[1;33m\u001b[0m\u001b[0m\n\u001b[0m",
      "\u001b[1;31mTypeError\u001b[0m: 'list' object is not callable"
     ]
    }
   ],
   "source": [
    "item = list(result)"
   ]
  },
  {
   "cell_type": "code",
   "execution_count": 80,
   "metadata": {},
   "outputs": [
    {
     "data": {
      "text/plain": [
       "<itertools.chain at 0x20e78a82898>"
      ]
     },
     "execution_count": 80,
     "metadata": {},
     "output_type": "execute_result"
    }
   ],
   "source": [
    "result.elements()"
   ]
  },
  {
   "cell_type": "code",
   "execution_count": 87,
   "metadata": {},
   "outputs": [],
   "source": [
    "result_list = result.most_common(10)"
   ]
  },
  {
   "cell_type": "code",
   "execution_count": 90,
   "metadata": {},
   "outputs": [
    {
     "data": {
      "text/plain": [
       "[('연예인', 3),\n",
       " ('오바마', 2),\n",
       " ('현빈', 2),\n",
       " ('여자배우', 2),\n",
       " ('정치인', 1),\n",
       " ('설현', 1),\n",
       " ('남자배우', 1),\n",
       " ('영화배우', 1),\n",
       " ('힐러리', 1),\n",
       " ('선생님', 1)]"
      ]
     },
     "execution_count": 90,
     "metadata": {},
     "output_type": "execute_result"
    }
   ],
   "source": [
    "result_list"
   ]
  },
  {
   "cell_type": "code",
   "execution_count": 92,
   "metadata": {},
   "outputs": [
    {
     "data": {
      "text/plain": [
       "('오바마', 2)"
      ]
     },
     "execution_count": 92,
     "metadata": {},
     "output_type": "execute_result"
    }
   ],
   "source": [
    "result_list[1]"
   ]
  },
  {
   "cell_type": "code",
   "execution_count": 97,
   "metadata": {},
   "outputs": [
    {
     "name": "stdout",
     "output_type": "stream",
     "text": [
      "연예인\n",
      "오바마\n",
      "현빈\n",
      "여자배우\n",
      "정치인\n",
      "설현\n",
      "남자배우\n",
      "영화배우\n",
      "힐러리\n",
      "선생님\n",
      "['연예인', '오바마', '현빈', '여자배우', '정치인', '설현', '남자배우', '영화배우', '힐러리', '선생님']\n",
      "[3, 2, 2, 2, 1, 1, 1, 1, 1, 1]\n"
     ]
    }
   ],
   "source": [
    "tag_list = []\n",
    "tag_count_list = []\n",
    "for obj in result_list :\n",
    "    tag = obj[0]        # tag_list\n",
    "    tag_count = obj[1]  # tag_count\n",
    "    tag_list.append(tag)\n",
    "    tag_count_list.append(tag_count)\n",
    "    print(tag)\n",
    "print(tag_list)\n",
    "print(tag_count_list)"
   ]
  },
  {
   "cell_type": "code",
   "execution_count": 133,
   "metadata": {},
   "outputs": [
    {
     "name": "stdout",
     "output_type": "stream",
     "text": [
      " * Serving Flask app \"__main__\" (lazy loading)\n",
      " * Environment: production\n",
      "   WARNING: This is a development server. Do not use it in a production deployment.\n",
      "   Use a production WSGI server instead.\n",
      " * Debug mode: off\n"
     ]
    },
    {
     "name": "stderr",
     "output_type": "stream",
     "text": [
      " * Running on http://localhost:9003/ (Press CTRL+C to quit)\n",
      "127.0.0.1 - - [28/Feb/2020 20:16:16] \"\u001b[37mGET / HTTP/1.1\u001b[0m\" 200 -\n",
      "127.0.0.1 - - [28/Feb/2020 20:16:18] \"\u001b[37mGET /login HTTP/1.1\u001b[0m\" 200 -\n",
      "127.0.0.1 - - [28/Feb/2020 20:16:19] \"\u001b[32mPOST /login HTTP/1.1\u001b[0m\" 302 -\n",
      "127.0.0.1 - - [28/Feb/2020 20:16:19] \"\u001b[37mGET / HTTP/1.1\u001b[0m\" 200 -\n",
      "127.0.0.1 - - [28/Feb/2020 20:16:21] \"\u001b[32mGET /logout HTTP/1.1\u001b[0m\" 302 -\n",
      "127.0.0.1 - - [28/Feb/2020 20:16:21] \"\u001b[37mGET / HTTP/1.1\u001b[0m\" 200 -\n",
      "127.0.0.1 - - [28/Feb/2020 20:16:23] \"\u001b[37mGET /login HTTP/1.1\u001b[0m\" 200 -\n",
      "127.0.0.1 - - [28/Feb/2020 20:16:26] \"\u001b[32mPOST /login HTTP/1.1\u001b[0m\" 302 -\n",
      "127.0.0.1 - - [28/Feb/2020 20:16:26] \"\u001b[37mGET / HTTP/1.1\u001b[0m\" 200 -\n"
     ]
    }
   ],
   "source": [
    "from flask import Flask, request, session, redirect, url_for\n",
    "app = Flask(__name__)\n",
    "app.secret_key = 'any random string'\n",
    "\n",
    "@app.route('/')\n",
    "def index():\n",
    "    if 'username' in session:\n",
    "        username = session['username']\n",
    "        return 'Logged in as ' + username + '<br>' + \\\n",
    "    \"<b><a href = '/logout'>click here to log out</a></b>\"\n",
    "    \n",
    "    return \"You are not logged in <br><a href = '/login'></b>\" + \\\n",
    "    \"click here to log in</b></a>\"\n",
    "\n",
    "@app.route('/login', methods = ['GET', 'POST'])\n",
    "def login():\n",
    "    if request.method == 'POST':\n",
    "        session['username'] = request.form['username']\n",
    "        return redirect(url_for('index'))\n",
    "    return '''\n",
    "    \n",
    "    <form action = \"\" method = \"post\">\n",
    "       <p><input type = \"text\" name = \"username\"/></p>\n",
    "       <p><input type = \"submit\" value = \"Login\"/></p>\n",
    "    </form>\n",
    "    '''\n",
    "@app.route('/logout')\n",
    "def logout():\n",
    "   # remove the username from the session if it is there\n",
    "    session.pop('username', None)\n",
    "    return redirect(url_for('index'))\n",
    "\n",
    "\n",
    "if __name__ == \"__main__\":\n",
    "    app.run(host=\"localhost\", port=\"9003\")"
   ]
  },
  {
   "cell_type": "code",
   "execution_count": null,
   "metadata": {},
   "outputs": [],
   "source": [
    "from flask import Flask, render_template, request, session, redirect\n",
    "from flask_mysqldb import MySQL\n",
    "app = Flask(__name__)\n",
    "\n",
    "app.secret_key = 'xJ1\\xd1\\xc4\\xcf\\xed2C\\xfc\\x95\\x92'\n",
    "\n",
    "app.config['MYSQL_HOST'] = 'localhost'\n",
    "app.config['MYSQL_USER'] = 'root'\n",
    "app.config['MYSQL_PASSWORD'] = '12345'\n",
    "app.config['MYSQL_DB'] = 'dbdeep'\n",
    "\n",
    "mysql = MySQL(app)\n",
    "\n",
    "@app.route('/')\n",
    "def home():\n",
    "    return render_template('main.html')\n",
    "\n",
    "@app.route('/join', methods=['GET', 'POST'])\n",
    "def join():\n",
    "    if request.method == \"POST\":\n",
    "\n",
    "        id = request.form['id']\n",
    "        name = request.form['name']\n",
    "        password = request.form['password']\n",
    "        password_check = request.form['password_check']\n",
    "        age = request.form['age']\n",
    "        sex = request.form['sex']\n",
    "\n",
    "        if(password == password_check):\n",
    "            cur = mysql.connection.cursor()\n",
    "            cur.execute(\"INSERT INTO user(id, name, password, age, sex) VALUES (%s, %s, %s, %s, %s)\", (id, name, password, age, sex))\n",
    "            mysql.connection.commit()\n",
    "            cur.close()\n",
    "            return 'success'\n",
    "        else:\n",
    "            return '비밀번호가 다릅니다.'\n",
    "\n",
    "    return render_template('join.html')\n",
    "\n",
    "\n",
    "@app.route('/login', methods=['GET', 'POST'])\n",
    "def login():\n",
    "    if request.method == \"POST\":\n",
    "\n",
    "        id = request.form['id']\n",
    "        password = request.form['password']\n",
    "        print(id, password)\n",
    "\n",
    "        cur = mysql.connection.cursor()\n",
    "        cur.execute(\"SELECT id, name, age, sex FROM user WHERE id = %s AND password = %s\", (id, password))\n",
    "        \n",
    "        account = cur.fetchone()\n",
    "        \n",
    "        if account:\n",
    "            session['login'] = True\n",
    "            session['id'] = account[0]\n",
    "            session['name'] = account[1]\n",
    "            session['age'] = account[2]\n",
    "            session['sex'] = account[3]\n",
    "\n",
    "            return redirect(\"/\")\n",
    "        else:\n",
    "            return '로그인 실패'\n",
    "    return render_template('login.html')\n",
    "\n",
    "\n",
    "@app.route('/logout')\n",
    "def logout():\n",
    "    session.pop('login', None)\n",
    "    session.pop('id', None)\n",
    "    session.pop('name', None)\n",
    "    session.pop('age', None)\n",
    "    session.pop('sex', None)\n",
    "    \n",
    "    return render_template('main.html')\n",
    "\n",
    "if __name__ == '__main__':\n",
    "    app.run()"
   ]
  },
  {
   "cell_type": "code",
   "execution_count": null,
   "metadata": {},
   "outputs": [],
   "source": []
  }
 ],
 "metadata": {
  "kernelspec": {
   "display_name": "Python 3",
   "language": "python",
   "name": "python3"
  },
  "language_info": {
   "codemirror_mode": {
    "name": "ipython",
    "version": 3
   },
   "file_extension": ".py",
   "mimetype": "text/x-python",
   "name": "python",
   "nbconvert_exporter": "python",
   "pygments_lexer": "ipython3",
   "version": "3.6.10"
  }
 },
 "nbformat": 4,
 "nbformat_minor": 4
}
